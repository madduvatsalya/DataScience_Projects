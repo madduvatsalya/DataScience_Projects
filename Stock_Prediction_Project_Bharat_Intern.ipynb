{
  "nbformat": 4,
  "nbformat_minor": 0,
  "metadata": {
    "colab": {
      "provenance": [],
      "mount_file_id": "10pQLCW3vNFF4P8laSmBH-Sm27YV-NMaw",
      "authorship_tag": "ABX9TyNeYMs8UQroyoNNeWc4WLlj",
      "include_colab_link": true
    },
    "kernelspec": {
      "name": "python3",
      "display_name": "Python 3"
    },
    "language_info": {
      "name": "python"
    }
  },
  "cells": [
    {
      "cell_type": "markdown",
      "metadata": {
        "id": "view-in-github",
        "colab_type": "text"
      },
      "source": [
        "<a href=\"https://colab.research.google.com/github/madduvatsalya/DataScience_Projects/blob/main/Stock_Prediction_Project_Bharat_Intern.ipynb\" target=\"_parent\"><img src=\"https://colab.research.google.com/assets/colab-badge.svg\" alt=\"Open In Colab\"/></a>"
      ]
    },
    {
      "cell_type": "markdown",
      "source": [
        "# Stock Prediction uusing LSTM\n",
        "Long Short Term Memory networks – usually just called “LSTMs” – are a special kind of RNN, capable of learning long-term dependencies. Introduced by Hochreiter & Schmidhuber (1997), and were refined and popularized by many people in following work. They work tremendously well on a large variety of problems, and are now widely used.\n",
        "\n",
        "LSTMs are explicitly designed to avoid the long-term dependency problem. Remembering information for long periods of time is practically their default behavior, not something they struggle to learn!\n",
        "\n",
        "All recurrent neural networks have the form of a chain of repeating modules of neural network."
      ],
      "metadata": {
        "id": "40nrKOAKtM05"
      }
    },
    {
      "cell_type": "code",
      "execution_count": 1,
      "metadata": {
        "id": "NUorMzKErsol"
      },
      "outputs": [],
      "source": [
        "import numpy as np\n",
        "import pandas as pd\n",
        "\n",
        "import os\n",
        "import matplotlib.pyplot as plt\n",
        "import pandas_datareader as web\n",
        "import datetime as dt\n",
        "\n",
        "from sklearn.preprocessing import MinMaxScaler\n",
        "from tensorflow.keras.models import Sequential\n",
        "from tensorflow.keras.layers import Dense, Dropout, LSTM\n",
        "from tensorflow.keras.callbacks import ModelCheckpoint, EarlyStopping"
      ]
    },
    {
      "cell_type": "code",
      "source": [
        "# Load csv\n",
        "df = pd.read_csv('/content/drive/MyDrive/preprocessed_CAC40.csv', parse_dates=['Date'])"
      ],
      "metadata": {
        "id": "0h3AXUjIr5P-"
      },
      "execution_count": 2,
      "outputs": []
    },
    {
      "cell_type": "code",
      "source": [
        "def load_data(company, start, end):\n",
        "    \"\"\"\n",
        "    Load data for the specified company and date range.\n",
        "\n",
        "    :param company: The company's stock symbol (str)\n",
        "    :param start: The starting date for the data range (str or datetime)\n",
        "    :param end: The ending date for the data range (str or datetime)\n",
        "    :return: A dataframe containing the relevant stock data (pandas.DataFrame)\n",
        "    \"\"\"\n",
        "    dataframe = df.copy()\n",
        "    dataframe = dataframe.loc[dataframe.Name == company, :]\n",
        "    dataframe = dataframe.loc[(dataframe['Date'] > start) & (dataframe['Date'] < end), :]\n",
        "    dataframe = dataframe.rename(columns = {'Closing_Price': 'Close'})\n",
        "    return dataframe"
      ],
      "metadata": {
        "id": "X-iTd4mTsMpW"
      },
      "execution_count": 3,
      "outputs": []
    },
    {
      "cell_type": "code",
      "source": [
        "COMPANY = 'Accor'\n",
        "START_DATE = dt.datetime(2015,1,1)\n",
        "END_DATE = dt.datetime(2020,1,1)\n",
        "\n",
        "START_DATE_TEST = END_DATE"
      ],
      "metadata": {
        "id": "1XAzFUe-sNZW"
      },
      "execution_count": 4,
      "outputs": []
    },
    {
      "cell_type": "code",
      "source": [
        "data = load_data(company = COMPANY,\n",
        "                 start = START_DATE,\n",
        "                 end = END_DATE)"
      ],
      "metadata": {
        "id": "1sxg6JDTsRmw"
      },
      "execution_count": 5,
      "outputs": []
    },
    {
      "cell_type": "code",
      "source": [
        "# Normalize data\n",
        "scaler = MinMaxScaler(feature_range=(0,1))\n",
        "scaled_data = scaler.fit_transform(data['Close'].values.reshape(-1,1))"
      ],
      "metadata": {
        "id": "1YsVHHWGsSPB"
      },
      "execution_count": 6,
      "outputs": []
    },
    {
      "cell_type": "code",
      "source": [
        "# Set the number of days used for prediction\n",
        "prediction_days = 60\n",
        "\n",
        "# Initialize empty lists for training data input and output\n",
        "x_train = []\n",
        "y_train = []\n",
        "\n",
        "# Iterate through the scaled data, starting from the prediction_days index\n",
        "for x in range(prediction_days, len(scaled_data)):\n",
        "    # Append the previous 'prediction_days' values to x_train\n",
        "    x_train.append(scaled_data[x - prediction_days:x, 0])\n",
        "    # Append the current value to y_train\n",
        "    y_train.append(scaled_data[x, 0])\n",
        "\n",
        "# Convert the x_train and y_train lists to numpy arrays\n",
        "x_train, y_train = np.array(x_train), np.array(y_train)\n",
        "\n",
        "# Reshape x_train to a 3D array with the appropriate dimensions for the LSTM model\n",
        "x_train = np.reshape(x_train, (x_train.shape[0], x_train.shape[1], 1))"
      ],
      "metadata": {
        "id": "BvsFhaNysWB8"
      },
      "execution_count": 7,
      "outputs": []
    },
    {
      "cell_type": "markdown",
      "source": [
        "# **LSTM MODEL**"
      ],
      "metadata": {
        "id": "kPHSmbwMsYVK"
      }
    },
    {
      "cell_type": "code",
      "source": [
        "def LSTM_model():\n",
        "    \"\"\"\n",
        "    Create and configure an LSTM model for stock price prediction.\n",
        "\n",
        "    :return: The configured LSTM model (keras.Sequential)\n",
        "    \"\"\"\n",
        "\n",
        "    # Initialize a sequential model\n",
        "    model = Sequential()\n",
        "\n",
        "    # Add the first LSTM layer with 50 units, input shape, and return sequences\n",
        "    model.add(LSTM(units=50, return_sequences=True, input_shape=(x_train.shape[1], 1)))\n",
        "    # Add dropout to prevent overfitting\n",
        "    model.add(Dropout(0.2))\n",
        "\n",
        "    # Add a second LSTM layer with 50 units and return sequences\n",
        "    model.add(LSTM(units=50, return_sequences=True))\n",
        "    # Add dropout to prevent overfitting\n",
        "    model.add(Dropout(0.2))\n",
        "\n",
        "    # Add a third LSTM layer with 50 units\n",
        "    model.add(LSTM(units=50))\n",
        "    # Add dropout to prevent overfitting\n",
        "    model.add(Dropout(0.2))\n",
        "\n",
        "    # Add a dense output layer with one unit\n",
        "    model.add(Dense(units=1))\n",
        "\n",
        "    return model"
      ],
      "metadata": {
        "id": "gx2OHWSLscHc"
      },
      "execution_count": 8,
      "outputs": []
    },
    {
      "cell_type": "code",
      "source": [
        "model = LSTM_model()\n",
        "model.summary()\n",
        "model.compile(\n",
        "    optimizer='adam',\n",
        "    loss='mean_squared_error'\n",
        ")"
      ],
      "metadata": {
        "colab": {
          "base_uri": "https://localhost:8080/"
        },
        "id": "US0PxEMDshUn",
        "outputId": "4b3a82fc-7bf6-412c-f302-b25fdba92901"
      },
      "execution_count": 9,
      "outputs": [
        {
          "output_type": "stream",
          "name": "stdout",
          "text": [
            "Model: \"sequential\"\n",
            "_________________________________________________________________\n",
            " Layer (type)                Output Shape              Param #   \n",
            "=================================================================\n",
            " lstm (LSTM)                 (None, 60, 50)            10400     \n",
            "                                                                 \n",
            " dropout (Dropout)           (None, 60, 50)            0         \n",
            "                                                                 \n",
            " lstm_1 (LSTM)               (None, 60, 50)            20200     \n",
            "                                                                 \n",
            " dropout_1 (Dropout)         (None, 60, 50)            0         \n",
            "                                                                 \n",
            " lstm_2 (LSTM)               (None, 50)                20200     \n",
            "                                                                 \n",
            " dropout_2 (Dropout)         (None, 50)                0         \n",
            "                                                                 \n",
            " dense (Dense)               (None, 1)                 51        \n",
            "                                                                 \n",
            "=================================================================\n",
            "Total params: 50,851\n",
            "Trainable params: 50,851\n",
            "Non-trainable params: 0\n",
            "_________________________________________________________________\n"
          ]
        }
      ]
    },
    {
      "cell_type": "code",
      "source": [
        "# Define callbacks\n",
        "\n",
        "# Save weights only for best model\n",
        "checkpointer = ModelCheckpoint(\n",
        "    filepath = 'weights_best.hdf5',\n",
        "    verbose = 2,\n",
        "    save_best_only = True\n",
        ")\n",
        "\n",
        "model.fit(\n",
        "    x_train,\n",
        "    y_train,\n",
        "    epochs=25,\n",
        "    batch_size = 32,\n",
        "    callbacks = [checkpointer]\n",
        ")"
      ],
      "metadata": {
        "colab": {
          "base_uri": "https://localhost:8080/"
        },
        "id": "JPK15RJFslvI",
        "outputId": "b095a671-abce-4b2a-8477-06de7aef0d14"
      },
      "execution_count": 10,
      "outputs": [
        {
          "output_type": "stream",
          "name": "stdout",
          "text": [
            "Epoch 1/25\n",
            "38/38 [==============================] - ETA: 0s - loss: 0.0374"
          ]
        },
        {
          "output_type": "stream",
          "name": "stderr",
          "text": [
            "WARNING:tensorflow:Can save best model only with val_loss available, skipping.\n"
          ]
        },
        {
          "output_type": "stream",
          "name": "stdout",
          "text": [
            "\b\b\b\b\b\b\b\b\b\b\b\b\b\b\b\b\b\b\b\b\b\b\b\b\b\b\b\b\b\b\b\b\b\b\b\b\b\b\b\b\b\b\b\b\b\b\b\b\b\b\b\b\b\b\b\b\b\b\b\b\b\b\b\r38/38 [==============================] - 11s 97ms/step - loss: 0.0374\n",
            "Epoch 2/25\n",
            "38/38 [==============================] - ETA: 0s - loss: 0.0102"
          ]
        },
        {
          "output_type": "stream",
          "name": "stderr",
          "text": [
            "WARNING:tensorflow:Can save best model only with val_loss available, skipping.\n"
          ]
        },
        {
          "output_type": "stream",
          "name": "stdout",
          "text": [
            "\b\b\b\b\b\b\b\b\b\b\b\b\b\b\b\b\b\b\b\b\b\b\b\b\b\b\b\b\b\b\b\b\b\b\b\b\b\b\b\b\b\b\b\b\b\b\b\b\b\b\b\b\b\b\b\b\b\b\b\b\b\b\b\r38/38 [==============================] - 4s 96ms/step - loss: 0.0102\n",
            "Epoch 3/25\n",
            "38/38 [==============================] - ETA: 0s - loss: 0.0098"
          ]
        },
        {
          "output_type": "stream",
          "name": "stderr",
          "text": [
            "WARNING:tensorflow:Can save best model only with val_loss available, skipping.\n"
          ]
        },
        {
          "output_type": "stream",
          "name": "stdout",
          "text": [
            "\b\b\b\b\b\b\b\b\b\b\b\b\b\b\b\b\b\b\b\b\b\b\b\b\b\b\b\b\b\b\b\b\b\b\b\b\b\b\b\b\b\b\b\b\b\b\b\b\b\b\b\b\b\b\b\b\b\b\b\b\b\b\b\r38/38 [==============================] - 7s 191ms/step - loss: 0.0098\n",
            "Epoch 4/25\n",
            "38/38 [==============================] - ETA: 0s - loss: 0.0088"
          ]
        },
        {
          "output_type": "stream",
          "name": "stderr",
          "text": [
            "WARNING:tensorflow:Can save best model only with val_loss available, skipping.\n"
          ]
        },
        {
          "output_type": "stream",
          "name": "stdout",
          "text": [
            "\b\b\b\b\b\b\b\b\b\b\b\b\b\b\b\b\b\b\b\b\b\b\b\b\b\b\b\b\b\b\b\b\b\b\b\b\b\b\b\b\b\b\b\b\b\b\b\b\b\b\b\b\b\b\b\b\b\b\b\b\b\b\b\r38/38 [==============================] - 4s 96ms/step - loss: 0.0088\n",
            "Epoch 5/25\n",
            "38/38 [==============================] - ETA: 0s - loss: 0.0080"
          ]
        },
        {
          "output_type": "stream",
          "name": "stderr",
          "text": [
            "WARNING:tensorflow:Can save best model only with val_loss available, skipping.\n"
          ]
        },
        {
          "output_type": "stream",
          "name": "stdout",
          "text": [
            "\b\b\b\b\b\b\b\b\b\b\b\b\b\b\b\b\b\b\b\b\b\b\b\b\b\b\b\b\b\b\b\b\b\b\b\b\b\b\b\b\b\b\b\b\b\b\b\b\b\b\b\b\b\b\b\b\b\b\b\b\b\b\b\r38/38 [==============================] - 4s 97ms/step - loss: 0.0080\n",
            "Epoch 6/25\n",
            "38/38 [==============================] - ETA: 0s - loss: 0.0082"
          ]
        },
        {
          "output_type": "stream",
          "name": "stderr",
          "text": [
            "WARNING:tensorflow:Can save best model only with val_loss available, skipping.\n"
          ]
        },
        {
          "output_type": "stream",
          "name": "stdout",
          "text": [
            "\b\b\b\b\b\b\b\b\b\b\b\b\b\b\b\b\b\b\b\b\b\b\b\b\b\b\b\b\b\b\b\b\b\b\b\b\b\b\b\b\b\b\b\b\b\b\b\b\b\b\b\b\b\b\b\b\b\b\b\b\b\b\b\r38/38 [==============================] - 6s 146ms/step - loss: 0.0082\n",
            "Epoch 7/25\n",
            "38/38 [==============================] - ETA: 0s - loss: 0.0080"
          ]
        },
        {
          "output_type": "stream",
          "name": "stderr",
          "text": [
            "WARNING:tensorflow:Can save best model only with val_loss available, skipping.\n"
          ]
        },
        {
          "output_type": "stream",
          "name": "stdout",
          "text": [
            "\b\b\b\b\b\b\b\b\b\b\b\b\b\b\b\b\b\b\b\b\b\b\b\b\b\b\b\b\b\b\b\b\b\b\b\b\b\b\b\b\b\b\b\b\b\b\b\b\b\b\b\b\b\b\b\b\b\b\b\b\b\b\b\r38/38 [==============================] - 4s 108ms/step - loss: 0.0080\n",
            "Epoch 8/25\n",
            "38/38 [==============================] - ETA: 0s - loss: 0.0082"
          ]
        },
        {
          "output_type": "stream",
          "name": "stderr",
          "text": [
            "WARNING:tensorflow:Can save best model only with val_loss available, skipping.\n"
          ]
        },
        {
          "output_type": "stream",
          "name": "stdout",
          "text": [
            "\b\b\b\b\b\b\b\b\b\b\b\b\b\b\b\b\b\b\b\b\b\b\b\b\b\b\b\b\b\b\b\b\b\b\b\b\b\b\b\b\b\b\b\b\b\b\b\b\b\b\b\b\b\b\b\b\b\b\b\b\b\b\b\r38/38 [==============================] - 5s 118ms/step - loss: 0.0082\n",
            "Epoch 9/25\n",
            "38/38 [==============================] - ETA: 0s - loss: 0.0074"
          ]
        },
        {
          "output_type": "stream",
          "name": "stderr",
          "text": [
            "WARNING:tensorflow:Can save best model only with val_loss available, skipping.\n"
          ]
        },
        {
          "output_type": "stream",
          "name": "stdout",
          "text": [
            "\b\b\b\b\b\b\b\b\b\b\b\b\b\b\b\b\b\b\b\b\b\b\b\b\b\b\b\b\b\b\b\b\b\b\b\b\b\b\b\b\b\b\b\b\b\b\b\b\b\b\b\b\b\b\b\b\b\b\b\b\b\b\b\r38/38 [==============================] - 5s 136ms/step - loss: 0.0074\n",
            "Epoch 10/25\n",
            "38/38 [==============================] - ETA: 0s - loss: 0.0076"
          ]
        },
        {
          "output_type": "stream",
          "name": "stderr",
          "text": [
            "WARNING:tensorflow:Can save best model only with val_loss available, skipping.\n"
          ]
        },
        {
          "output_type": "stream",
          "name": "stdout",
          "text": [
            "\b\b\b\b\b\b\b\b\b\b\b\b\b\b\b\b\b\b\b\b\b\b\b\b\b\b\b\b\b\b\b\b\b\b\b\b\b\b\b\b\b\b\b\b\b\b\b\b\b\b\b\b\b\b\b\b\b\b\b\b\b\b\b\r38/38 [==============================] - 5s 140ms/step - loss: 0.0076\n",
            "Epoch 11/25\n",
            "38/38 [==============================] - ETA: 0s - loss: 0.0076"
          ]
        },
        {
          "output_type": "stream",
          "name": "stderr",
          "text": [
            "WARNING:tensorflow:Can save best model only with val_loss available, skipping.\n"
          ]
        },
        {
          "output_type": "stream",
          "name": "stdout",
          "text": [
            "\b\b\b\b\b\b\b\b\b\b\b\b\b\b\b\b\b\b\b\b\b\b\b\b\b\b\b\b\b\b\b\b\b\b\b\b\b\b\b\b\b\b\b\b\b\b\b\b\b\b\b\b\b\b\b\b\b\b\b\b\b\b\b\r38/38 [==============================] - 6s 151ms/step - loss: 0.0076\n",
            "Epoch 12/25\n",
            "38/38 [==============================] - ETA: 0s - loss: 0.0067"
          ]
        },
        {
          "output_type": "stream",
          "name": "stderr",
          "text": [
            "WARNING:tensorflow:Can save best model only with val_loss available, skipping.\n"
          ]
        },
        {
          "output_type": "stream",
          "name": "stdout",
          "text": [
            "\b\b\b\b\b\b\b\b\b\b\b\b\b\b\b\b\b\b\b\b\b\b\b\b\b\b\b\b\b\b\b\b\b\b\b\b\b\b\b\b\b\b\b\b\b\b\b\b\b\b\b\b\b\b\b\b\b\b\b\b\b\b\b\r38/38 [==============================] - 6s 170ms/step - loss: 0.0067\n",
            "Epoch 13/25\n",
            "38/38 [==============================] - ETA: 0s - loss: 0.0065"
          ]
        },
        {
          "output_type": "stream",
          "name": "stderr",
          "text": [
            "WARNING:tensorflow:Can save best model only with val_loss available, skipping.\n"
          ]
        },
        {
          "output_type": "stream",
          "name": "stdout",
          "text": [
            "\b\b\b\b\b\b\b\b\b\b\b\b\b\b\b\b\b\b\b\b\b\b\b\b\b\b\b\b\b\b\b\b\b\b\b\b\b\b\b\b\b\b\b\b\b\b\b\b\b\b\b\b\b\b\b\b\b\b\b\b\b\b\b\r38/38 [==============================] - 5s 130ms/step - loss: 0.0065\n",
            "Epoch 14/25\n",
            "38/38 [==============================] - ETA: 0s - loss: 0.0067"
          ]
        },
        {
          "output_type": "stream",
          "name": "stderr",
          "text": [
            "WARNING:tensorflow:Can save best model only with val_loss available, skipping.\n"
          ]
        },
        {
          "output_type": "stream",
          "name": "stdout",
          "text": [
            "\b\b\b\b\b\b\b\b\b\b\b\b\b\b\b\b\b\b\b\b\b\b\b\b\b\b\b\b\b\b\b\b\b\b\b\b\b\b\b\b\b\b\b\b\b\b\b\b\b\b\b\b\b\b\b\b\b\b\b\b\b\b\b\r38/38 [==============================] - 4s 98ms/step - loss: 0.0067\n",
            "Epoch 15/25\n",
            "38/38 [==============================] - ETA: 0s - loss: 0.0058"
          ]
        },
        {
          "output_type": "stream",
          "name": "stderr",
          "text": [
            "WARNING:tensorflow:Can save best model only with val_loss available, skipping.\n"
          ]
        },
        {
          "output_type": "stream",
          "name": "stdout",
          "text": [
            "\b\b\b\b\b\b\b\b\b\b\b\b\b\b\b\b\b\b\b\b\b\b\b\b\b\b\b\b\b\b\b\b\b\b\b\b\b\b\b\b\b\b\b\b\b\b\b\b\b\b\b\b\b\b\b\b\b\b\b\b\b\b\b\r38/38 [==============================] - 6s 158ms/step - loss: 0.0058\n",
            "Epoch 16/25\n",
            "38/38 [==============================] - ETA: 0s - loss: 0.0058"
          ]
        },
        {
          "output_type": "stream",
          "name": "stderr",
          "text": [
            "WARNING:tensorflow:Can save best model only with val_loss available, skipping.\n"
          ]
        },
        {
          "output_type": "stream",
          "name": "stdout",
          "text": [
            "\b\b\b\b\b\b\b\b\b\b\b\b\b\b\b\b\b\b\b\b\b\b\b\b\b\b\b\b\b\b\b\b\b\b\b\b\b\b\b\b\b\b\b\b\b\b\b\b\b\b\b\b\b\b\b\b\b\b\b\b\b\b\b\r38/38 [==============================] - 4s 96ms/step - loss: 0.0058\n",
            "Epoch 17/25\n",
            "38/38 [==============================] - ETA: 0s - loss: 0.0052"
          ]
        },
        {
          "output_type": "stream",
          "name": "stderr",
          "text": [
            "WARNING:tensorflow:Can save best model only with val_loss available, skipping.\n"
          ]
        },
        {
          "output_type": "stream",
          "name": "stdout",
          "text": [
            "\b\b\b\b\b\b\b\b\b\b\b\b\b\b\b\b\b\b\b\b\b\b\b\b\b\b\b\b\b\b\b\b\b\b\b\b\b\b\b\b\b\b\b\b\b\b\b\b\b\b\b\b\b\b\b\b\b\b\b\b\b\b\b\r38/38 [==============================] - 5s 124ms/step - loss: 0.0052\n",
            "Epoch 18/25\n",
            "38/38 [==============================] - ETA: 0s - loss: 0.0058"
          ]
        },
        {
          "output_type": "stream",
          "name": "stderr",
          "text": [
            "WARNING:tensorflow:Can save best model only with val_loss available, skipping.\n"
          ]
        },
        {
          "output_type": "stream",
          "name": "stdout",
          "text": [
            "\b\b\b\b\b\b\b\b\b\b\b\b\b\b\b\b\b\b\b\b\b\b\b\b\b\b\b\b\b\b\b\b\b\b\b\b\b\b\b\b\b\b\b\b\b\b\b\b\b\b\b\b\b\b\b\b\b\b\b\b\b\b\b\r38/38 [==============================] - 8s 200ms/step - loss: 0.0058\n",
            "Epoch 19/25\n",
            "38/38 [==============================] - ETA: 0s - loss: 0.0054"
          ]
        },
        {
          "output_type": "stream",
          "name": "stderr",
          "text": [
            "WARNING:tensorflow:Can save best model only with val_loss available, skipping.\n"
          ]
        },
        {
          "output_type": "stream",
          "name": "stdout",
          "text": [
            "\b\b\b\b\b\b\b\b\b\b\b\b\b\b\b\b\b\b\b\b\b\b\b\b\b\b\b\b\b\b\b\b\b\b\b\b\b\b\b\b\b\b\b\b\b\b\b\b\b\b\b\b\b\b\b\b\b\b\b\b\b\b\b\r38/38 [==============================] - 6s 152ms/step - loss: 0.0054\n",
            "Epoch 20/25\n",
            "38/38 [==============================] - ETA: 0s - loss: 0.0052"
          ]
        },
        {
          "output_type": "stream",
          "name": "stderr",
          "text": [
            "WARNING:tensorflow:Can save best model only with val_loss available, skipping.\n"
          ]
        },
        {
          "output_type": "stream",
          "name": "stdout",
          "text": [
            "\b\b\b\b\b\b\b\b\b\b\b\b\b\b\b\b\b\b\b\b\b\b\b\b\b\b\b\b\b\b\b\b\b\b\b\b\b\b\b\b\b\b\b\b\b\b\b\b\b\b\b\b\b\b\b\b\b\b\b\b\b\b\b\r38/38 [==============================] - 6s 149ms/step - loss: 0.0052\n",
            "Epoch 21/25\n",
            "38/38 [==============================] - ETA: 0s - loss: 0.0056"
          ]
        },
        {
          "output_type": "stream",
          "name": "stderr",
          "text": [
            "WARNING:tensorflow:Can save best model only with val_loss available, skipping.\n"
          ]
        },
        {
          "output_type": "stream",
          "name": "stdout",
          "text": [
            "\b\b\b\b\b\b\b\b\b\b\b\b\b\b\b\b\b\b\b\b\b\b\b\b\b\b\b\b\b\b\b\b\b\b\b\b\b\b\b\b\b\b\b\b\b\b\b\b\b\b\b\b\b\b\b\b\b\b\b\b\b\b\b\r38/38 [==============================] - 5s 132ms/step - loss: 0.0056\n",
            "Epoch 22/25\n",
            "38/38 [==============================] - ETA: 0s - loss: 0.0054"
          ]
        },
        {
          "output_type": "stream",
          "name": "stderr",
          "text": [
            "WARNING:tensorflow:Can save best model only with val_loss available, skipping.\n"
          ]
        },
        {
          "output_type": "stream",
          "name": "stdout",
          "text": [
            "\b\b\b\b\b\b\b\b\b\b\b\b\b\b\b\b\b\b\b\b\b\b\b\b\b\b\b\b\b\b\b\b\b\b\b\b\b\b\b\b\b\b\b\b\b\b\b\b\b\b\b\b\b\b\b\b\b\b\b\b\b\b\b\r38/38 [==============================] - 5s 119ms/step - loss: 0.0054\n",
            "Epoch 23/25\n",
            "38/38 [==============================] - ETA: 0s - loss: 0.0051"
          ]
        },
        {
          "output_type": "stream",
          "name": "stderr",
          "text": [
            "WARNING:tensorflow:Can save best model only with val_loss available, skipping.\n"
          ]
        },
        {
          "output_type": "stream",
          "name": "stdout",
          "text": [
            "\b\b\b\b\b\b\b\b\b\b\b\b\b\b\b\b\b\b\b\b\b\b\b\b\b\b\b\b\b\b\b\b\b\b\b\b\b\b\b\b\b\b\b\b\b\b\b\b\b\b\b\b\b\b\b\b\b\b\b\b\b\b\b\r38/38 [==============================] - 6s 171ms/step - loss: 0.0051\n",
            "Epoch 24/25\n",
            "38/38 [==============================] - ETA: 0s - loss: 0.0048"
          ]
        },
        {
          "output_type": "stream",
          "name": "stderr",
          "text": [
            "WARNING:tensorflow:Can save best model only with val_loss available, skipping.\n"
          ]
        },
        {
          "output_type": "stream",
          "name": "stdout",
          "text": [
            "\b\b\b\b\b\b\b\b\b\b\b\b\b\b\b\b\b\b\b\b\b\b\b\b\b\b\b\b\b\b\b\b\b\b\b\b\b\b\b\b\b\b\b\b\b\b\b\b\b\b\b\b\b\b\b\b\b\b\b\b\b\b\b\r38/38 [==============================] - 4s 99ms/step - loss: 0.0048\n",
            "Epoch 25/25\n",
            "38/38 [==============================] - ETA: 0s - loss: 0.0052"
          ]
        },
        {
          "output_type": "stream",
          "name": "stderr",
          "text": [
            "WARNING:tensorflow:Can save best model only with val_loss available, skipping.\n"
          ]
        },
        {
          "output_type": "stream",
          "name": "stdout",
          "text": [
            "\b\b\b\b\b\b\b\b\b\b\b\b\b\b\b\b\b\b\b\b\b\b\b\b\b\b\b\b\b\b\b\b\b\b\b\b\b\b\b\b\b\b\b\b\b\b\b\b\b\b\b\b\b\b\b\b\b\b\b\b\b\b\b\r38/38 [==============================] - 4s 97ms/step - loss: 0.0052\n"
          ]
        },
        {
          "output_type": "execute_result",
          "data": {
            "text/plain": [
              "<keras.callbacks.History at 0x780c39a9cd00>"
            ]
          },
          "metadata": {},
          "execution_count": 10
        }
      ]
    },
    {
      "cell_type": "code",
      "source": [
        "# Load test data for the specified company and date range\n",
        "test_data = load_data(\n",
        "    company=COMPANY,\n",
        "    start=START_DATE_TEST,\n",
        "    end=dt.datetime.now()\n",
        ")\n",
        "\n",
        "# Extract the actual closing prices from the test data\n",
        "actual_prices = test_data['Close'].values\n",
        "\n",
        "# Concatenate the training and test data along the 'Close' column\n",
        "total_dataset = pd.concat((data['Close'], test_data['Close']), axis=0)\n",
        "\n",
        "# Extract the relevant portion of the dataset for model inputs\n",
        "model_inputs = total_dataset[len(total_dataset) - len(test_data) - prediction_days:].values\n",
        "\n",
        "# Reshape the model inputs to a 2D array with a single column\n",
        "model_inputs = model_inputs.reshape(-1, 1)\n",
        "\n",
        "# Apply the same scaling used for training data to the model inputs\n",
        "model_inputs = scaler.transform(model_inputs)"
      ],
      "metadata": {
        "id": "jHLUxAyosmYZ"
      },
      "execution_count": 11,
      "outputs": []
    },
    {
      "cell_type": "code",
      "source": [
        "# Initialize an empty list for test data input\n",
        "x_test = []\n",
        "\n",
        "# Iterate through the model inputs, starting from the prediction_days index\n",
        "for x in range(prediction_days, len(model_inputs)):\n",
        "    # Append the previous 'prediction_days' values to x_test\n",
        "    x_test.append(model_inputs[x-prediction_days:x, 0])\n",
        "\n",
        "# Convert the x_test list to a numpy array\n",
        "x_test = np.array(x_test)\n",
        "\n",
        "# Reshape x_test to a 3D array with the appropriate dimensions for the LSTM model\n",
        "x_test = np.reshape(x_test, (x_test.shape[0], x_test.shape[1], 1))\n",
        "\n",
        "# Generate price predictions using the LSTM model\n",
        "predicted_prices = model.predict(x_test)\n",
        "\n",
        "# Invert the scaling applied to the predicted prices to obtain actual values\n",
        "predicted_prices = scaler.inverse_transform(predicted_prices)"
      ],
      "metadata": {
        "colab": {
          "base_uri": "https://localhost:8080/"
        },
        "id": "BXEtgIZKsow5",
        "outputId": "9005ec78-e822-4cae-9c59-a4d5efb4c418"
      },
      "execution_count": 12,
      "outputs": [
        {
          "output_type": "stream",
          "name": "stdout",
          "text": [
            "3/3 [==============================] - 2s 23ms/step\n"
          ]
        }
      ]
    },
    {
      "cell_type": "code",
      "source": [
        "# Plot the actual prices using a black line\n",
        "plt.plot(actual_prices, color='black', label=f\"Actual {COMPANY} price\")\n",
        "\n",
        "# Plot the predicted prices using a green line\n",
        "plt.plot(predicted_prices, color='green', label=f\"Predicted {COMPANY} price\")\n",
        "\n",
        "# Set the title of the plot using the company name\n",
        "plt.title(f\"{COMPANY} share price\")\n",
        "\n",
        "# Set the x-axis label as 'time'\n",
        "plt.xlabel(\"time\")\n",
        "\n",
        "# Set the y-axis label using the company name\n",
        "plt.ylabel(f\"{COMPANY} share price\")\n",
        "\n",
        "# Display a legend to differentiate the actual and predicted prices\n",
        "plt.legend()\n",
        "\n",
        "# Show the plot on the screen\n",
        "plt.show()"
      ],
      "metadata": {
        "colab": {
          "base_uri": "https://localhost:8080/",
          "height": 472
        },
        "id": "0H4ADuLcssMr",
        "outputId": "120907ec-9e4a-4634-ea71-875ad7532391"
      },
      "execution_count": 13,
      "outputs": [
        {
          "output_type": "display_data",
          "data": {
            "text/plain": [
              "<Figure size 640x480 with 1 Axes>"
            ],
            "image/png": "[encoded data removed]"
          },
          "metadata": {}
        }
      ]
    },
    {
      "cell_type": "code",
      "source": [
        "# Extract the last 'prediction_days' values from the model inputs\n",
        "real_data = [model_inputs[len(model_inputs) + 1 - prediction_days:len(model_inputs + 1), 0]]\n",
        "\n",
        "# Convert the real_data list to a numpy array\n",
        "real_data = np.array(real_data)\n",
        "\n",
        "# Reshape real_data to a 3D array with the appropriate dimensions for the LSTM model\n",
        "real_data = np.reshape(real_data, (real_data.shape[0], real_data.shape[1], 1))\n",
        "\n",
        "# Generate a prediction using the LSTM model with the real_data input\n",
        "prediction = model.predict(real_data)\n",
        "\n",
        "# Invert the scaling applied to the prediction to obtain the actual value\n",
        "prediction = scaler.inverse_transform(prediction)\n",
        "\n",
        "# Print the prediction result to the console\n",
        "print(f\"Prediction: {prediction[0][0]}\")"
      ],
      "metadata": {
        "colab": {
          "base_uri": "https://localhost:8080/"
        },
        "id": "9WOpDn4OsuIU",
        "outputId": "e73b6cee-3c96-4d31-c8a7-d97119f4a1ba"
      },
      "execution_count": 14,
      "outputs": [
        {
          "output_type": "stream",
          "name": "stdout",
          "text": [
            "1/1 [==============================] - 1s 1s/step\n",
            "Prediction: 39.837921142578125\n"
          ]
        }
      ]
    },
    {
      "cell_type": "code",
      "source": [],
      "metadata": {
        "id": "oaxFeIrpsu2d"
      },
      "execution_count": 14,
      "outputs": []
    },
    {
      "cell_type": "code",
      "source": [
        "from google.colab import drive\n",
        "drive.mount('/content/drive')"
      ],
      "metadata": {
        "colab": {
          "base_uri": "https://localhost:8080/"
        },
        "id": "560qmkXrs02N",
        "outputId": "321a148c-2b4e-4144-9fe5-55710531eb42"
      },
      "execution_count": 15,
      "outputs": [
        {
          "output_type": "stream",
          "name": "stdout",
          "text": [
            "Drive already mounted at /content/drive; to attempt to forcibly remount, call drive.mount(\"/content/drive\", force_remount=True).\n"
          ]
        }
      ]
    }
  ]
}